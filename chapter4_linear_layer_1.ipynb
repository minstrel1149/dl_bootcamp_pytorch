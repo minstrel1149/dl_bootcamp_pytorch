{
 "cells": [
  {
   "cell_type": "code",
   "execution_count": 6,
   "metadata": {},
   "outputs": [],
   "source": [
    "import torch\n",
    "import torch.nn as nn\n",
    "import numpy as np"
   ]
  },
  {
   "cell_type": "code",
   "execution_count": 2,
   "metadata": {},
   "outputs": [
    {
     "data": {
      "text/plain": [
       "(tensor([[1., 2.],\n",
       "         [3., 4.],\n",
       "         [5., 6.]]),\n",
       " tensor([[1., 2.],\n",
       "         [1., 2.]]))"
      ]
     },
     "execution_count": 2,
     "metadata": {},
     "output_type": "execute_result"
    }
   ],
   "source": [
    "x = torch.FloatTensor([i + 1 for i in range(6)]).reshape(3, -1)\n",
    "y = torch.FloatTensor([1, 2]).expand(2, 2)\n",
    "x, y"
   ]
  },
  {
   "cell_type": "code",
   "execution_count": 3,
   "metadata": {},
   "outputs": [
    {
     "data": {
      "text/plain": [
       "tensor([[ 3.,  6.],\n",
       "        [ 7., 14.],\n",
       "        [11., 22.]])"
      ]
     },
     "execution_count": 3,
     "metadata": {},
     "output_type": "execute_result"
    }
   ],
   "source": [
    "torch.matmul(x, y)"
   ]
  },
  {
   "cell_type": "code",
   "execution_count": 4,
   "metadata": {},
   "outputs": [
    {
     "data": {
      "text/plain": [
       "(tensor([[[15,  1],\n",
       "          [ 8, 11],\n",
       "          [ 9,  5]],\n",
       " \n",
       "         [[12, 16],\n",
       "          [ 6, 14],\n",
       "          [10, 13]],\n",
       " \n",
       "         [[ 4,  2],\n",
       "          [ 0, 17],\n",
       "          [ 7,  3]]]),\n",
       " tensor([[[ 1, 15, 10],\n",
       "          [ 7, 13,  4]],\n",
       " \n",
       "         [[ 6, 12, 17],\n",
       "          [11,  5, 16]],\n",
       " \n",
       "         [[ 8,  2,  3],\n",
       "          [ 9,  0, 14]]]))"
      ]
     },
     "execution_count": 4,
     "metadata": {},
     "output_type": "execute_result"
    }
   ],
   "source": [
    "x = torch.randperm(3 * 3 * 2).reshape(3, 3, 2)\n",
    "y = torch.randperm(3 * 2 * 3).reshape(3, 2, 3)\n",
    "x, y"
   ]
  },
  {
   "cell_type": "code",
   "execution_count": 5,
   "metadata": {},
   "outputs": [
    {
     "data": {
      "text/plain": [
       "tensor([[[ 22, 238, 154],\n",
       "         [ 85, 263, 124],\n",
       "         [ 44, 200, 110]],\n",
       "\n",
       "        [[248, 224, 460],\n",
       "         [190, 142, 326],\n",
       "         [203, 185, 378]],\n",
       "\n",
       "        [[ 50,   8,  40],\n",
       "         [153,   0, 238],\n",
       "         [ 83,  14,  63]]])"
      ]
     },
     "execution_count": 5,
     "metadata": {},
     "output_type": "execute_result"
    }
   ],
   "source": [
    "torch.bmm(x, y)"
   ]
  },
  {
   "cell_type": "code",
   "execution_count": 7,
   "metadata": {},
   "outputs": [],
   "source": [
    "class MyLinear(nn.Module):\n",
    "    def __init__(self, input_dim=3, output_dim=3):\n",
    "        self.input_dim = input_dim\n",
    "        self.output_dim = output_dim\n",
    "        super().__init__()\n",
    "\n",
    "        self.W = nn.Parameter(torch.FloatTensor(input_dim, output_dim))\n",
    "        self.b = nn.Parameter(torch.FloatTensor(output_dim))\n",
    "    \n",
    "    def forward(self, X):\n",
    "        y = torch.matmul(x, self.W) + self.b\n",
    "        return y"
   ]
  },
  {
   "cell_type": "code",
   "execution_count": 9,
   "metadata": {},
   "outputs": [
    {
     "name": "stdout",
     "output_type": "stream",
     "text": [
      "Parameter containing:\n",
      "tensor([[6.3058e-44, 6.7262e-44],\n",
      "        [7.4269e-44, 6.3058e-44],\n",
      "        [7.0065e-44, 6.8664e-44]], requires_grad=True)\n",
      "Parameter containing:\n",
      "tensor([0., 0.], requires_grad=True)\n"
     ]
    }
   ],
   "source": [
    "linear = MyLinear(3, 2)\n",
    "for p in linear.parameters():\n",
    "    print(p)"
   ]
  },
  {
   "cell_type": "code",
   "execution_count": 11,
   "metadata": {},
   "outputs": [
    {
     "name": "stdout",
     "output_type": "stream",
     "text": [
      "Parameter containing:\n",
      "tensor([[ 0.2834, -0.4318,  0.1703],\n",
      "        [-0.0953,  0.4289, -0.3803]], requires_grad=True)\n",
      "Parameter containing:\n",
      "tensor([-0.5375, -0.5434], requires_grad=True)\n"
     ]
    }
   ],
   "source": [
    "linear = nn.Linear(3, 2)\n",
    "for p in linear.parameters():\n",
    "    print(p)"
   ]
  },
  {
   "cell_type": "code",
   "execution_count": 12,
   "metadata": {},
   "outputs": [],
   "source": [
    "class MyLinear(nn.Module):\n",
    "    def __init__(self, input_dim=3, output_dim=3):\n",
    "        self.input_dim = input_dim\n",
    "        self.output_dim = output_dim\n",
    "        super().__init__()\n",
    "\n",
    "        self.linear = nn.Linear(input_dim, output_dim)\n",
    "    \n",
    "    def forward(self, X):\n",
    "        y = self.Linear(X)\n",
    "        return y"
   ]
  },
  {
   "cell_type": "code",
   "execution_count": 13,
   "metadata": {},
   "outputs": [
    {
     "name": "stdout",
     "output_type": "stream",
     "text": [
      "Parameter containing:\n",
      "tensor([[ 0.0344, -0.3845,  0.0636],\n",
      "        [ 0.5550, -0.0420,  0.4278]], requires_grad=True)\n",
      "Parameter containing:\n",
      "tensor([-0.0455, -0.1088], requires_grad=True)\n"
     ]
    }
   ],
   "source": [
    "linear = MyLinear(3, 2)\n",
    "for p in linear.parameters():\n",
    "    print(p)"
   ]
  },
  {
   "cell_type": "code",
   "execution_count": null,
   "metadata": {},
   "outputs": [],
   "source": []
  }
 ],
 "metadata": {
  "kernelspec": {
   "display_name": "base",
   "language": "python",
   "name": "python3"
  },
  "language_info": {
   "codemirror_mode": {
    "name": "ipython",
    "version": 3
   },
   "file_extension": ".py",
   "mimetype": "text/x-python",
   "name": "python",
   "nbconvert_exporter": "python",
   "pygments_lexer": "ipython3",
   "version": "3.10.9"
  },
  "orig_nbformat": 4
 },
 "nbformat": 4,
 "nbformat_minor": 2
}
