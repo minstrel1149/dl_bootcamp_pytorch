{
 "cells": [
  {
   "cell_type": "code",
   "execution_count": 1,
   "metadata": {},
   "outputs": [],
   "source": [
    "import torch\n",
    "import numpy as np"
   ]
  },
  {
   "cell_type": "code",
   "execution_count": 2,
   "metadata": {},
   "outputs": [
    {
     "data": {
      "text/plain": [
       "(tensor([[1., 2.],\n",
       "         [3., 4.],\n",
       "         [5., 6.]]),\n",
       " tensor([[1., 2.],\n",
       "         [1., 2.]]))"
      ]
     },
     "execution_count": 2,
     "metadata": {},
     "output_type": "execute_result"
    }
   ],
   "source": [
    "x = torch.FloatTensor([i + 1 for i in range(6)]).reshape(3, -1)\n",
    "y = torch.FloatTensor([1, 2]).expand(2, 2)\n",
    "x, y"
   ]
  },
  {
   "cell_type": "code",
   "execution_count": 3,
   "metadata": {},
   "outputs": [
    {
     "data": {
      "text/plain": [
       "tensor([[ 3.,  6.],\n",
       "        [ 7., 14.],\n",
       "        [11., 22.]])"
      ]
     },
     "execution_count": 3,
     "metadata": {},
     "output_type": "execute_result"
    }
   ],
   "source": [
    "torch.matmul(x, y)"
   ]
  },
  {
   "cell_type": "code",
   "execution_count": 4,
   "metadata": {},
   "outputs": [
    {
     "data": {
      "text/plain": [
       "(tensor([[[15,  1],\n",
       "          [ 8, 11],\n",
       "          [ 9,  5]],\n",
       " \n",
       "         [[12, 16],\n",
       "          [ 6, 14],\n",
       "          [10, 13]],\n",
       " \n",
       "         [[ 4,  2],\n",
       "          [ 0, 17],\n",
       "          [ 7,  3]]]),\n",
       " tensor([[[ 1, 15, 10],\n",
       "          [ 7, 13,  4]],\n",
       " \n",
       "         [[ 6, 12, 17],\n",
       "          [11,  5, 16]],\n",
       " \n",
       "         [[ 8,  2,  3],\n",
       "          [ 9,  0, 14]]]))"
      ]
     },
     "execution_count": 4,
     "metadata": {},
     "output_type": "execute_result"
    }
   ],
   "source": [
    "x = torch.randperm(3 * 3 * 2).reshape(3, 3, 2)\n",
    "y = torch.randperm(3 * 2 * 3).reshape(3, 2, 3)\n",
    "x, y"
   ]
  },
  {
   "cell_type": "code",
   "execution_count": 5,
   "metadata": {},
   "outputs": [
    {
     "data": {
      "text/plain": [
       "tensor([[[ 22, 238, 154],\n",
       "         [ 85, 263, 124],\n",
       "         [ 44, 200, 110]],\n",
       "\n",
       "        [[248, 224, 460],\n",
       "         [190, 142, 326],\n",
       "         [203, 185, 378]],\n",
       "\n",
       "        [[ 50,   8,  40],\n",
       "         [153,   0, 238],\n",
       "         [ 83,  14,  63]]])"
      ]
     },
     "execution_count": 5,
     "metadata": {},
     "output_type": "execute_result"
    }
   ],
   "source": [
    "torch.bmm(x, y)"
   ]
  },
  {
   "cell_type": "code",
   "execution_count": null,
   "metadata": {},
   "outputs": [],
   "source": []
  }
 ],
 "metadata": {
  "kernelspec": {
   "display_name": "base",
   "language": "python",
   "name": "python3"
  },
  "language_info": {
   "codemirror_mode": {
    "name": "ipython",
    "version": 3
   },
   "file_extension": ".py",
   "mimetype": "text/x-python",
   "name": "python",
   "nbconvert_exporter": "python",
   "pygments_lexer": "ipython3",
   "version": "3.10.9"
  },
  "orig_nbformat": 4
 },
 "nbformat": 4,
 "nbformat_minor": 2
}
