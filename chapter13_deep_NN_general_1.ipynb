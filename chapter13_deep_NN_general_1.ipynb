{
 "cells": [
  {
   "cell_type": "code",
   "execution_count": 1,
   "metadata": {},
   "outputs": [],
   "source": [
    "import torch\n",
    "import torch.nn as nn\n",
    "import torch.nn.functional as F\n",
    "import torch.optim as optim\n",
    "import numpy as np\n",
    "import pandas as pd\n",
    "import matplotlib.pyplot as plt\n",
    "import seaborn as sns\n",
    "from copy import deepcopy\n",
    "from torchvision import datasets, transforms"
   ]
  },
  {
   "cell_type": "code",
   "execution_count": 28,
   "metadata": {},
   "outputs": [],
   "source": [
    "from sklearn.datasets import load_breast_cancer\n",
    "from sklearn.preprocessing import StandardScaler\n",
    "from sklearn.metrics import roc_auc_score, ConfusionMatrixDisplay, confusion_matrix"
   ]
  },
  {
   "cell_type": "code",
   "execution_count": 3,
   "metadata": {},
   "outputs": [],
   "source": [
    "train = datasets.MNIST('../data', train=True, transform=transforms.Compose([transforms.ToTensor()]))\n",
    "test = datasets.MNIST('../data', train=False, transform=transforms.Compose([transforms.ToTensor()]))"
   ]
  },
  {
   "cell_type": "code",
   "execution_count": 4,
   "metadata": {},
   "outputs": [],
   "source": [
    "def plot(X):\n",
    "    img = (np.array(X.detach().cpu(), dtype='float')).reshape(28, 28)\n",
    "    plt.imshow(img, cmap='gray')\n",
    "    plt.show()"
   ]
  },
  {
   "cell_type": "code",
   "execution_count": 5,
   "metadata": {},
   "outputs": [
    {
     "data": {
      "image/png": "[encoded data removed]",
      "text/plain": [
       "<Figure size 432x288 with 1 Axes>"
      ]
     },
     "metadata": {
      "needs_background": "light"
     },
     "output_type": "display_data"
    }
   ],
   "source": [
    "plot(train.data[0])"
   ]
  },
  {
   "cell_type": "code",
   "execution_count": 6,
   "metadata": {},
   "outputs": [
    {
     "data": {
      "text/plain": [
       "(torch.Size([60000, 784]), torch.Size([60000]))"
      ]
     },
     "execution_count": 6,
     "metadata": {},
     "output_type": "execute_result"
    }
   ],
   "source": [
    "X = train.data.float() / 255\n",
    "X = X.reshape(X.shape[0], -1)\n",
    "y = train.targets\n",
    "X.shape, y.shape"
   ]
  },
  {
   "cell_type": "code",
   "execution_count": 7,
   "metadata": {},
   "outputs": [
    {
     "data": {
      "text/plain": [
       "(784, 10)"
      ]
     },
     "execution_count": 7,
     "metadata": {},
     "output_type": "execute_result"
    }
   ],
   "source": [
    "input_size = X.shape[-1]\n",
    "output_size = int(max(y)) + 1\n",
    "input_size, output_size"
   ]
  },
  {
   "cell_type": "code",
   "execution_count": 8,
   "metadata": {},
   "outputs": [
    {
     "data": {
      "text/plain": [
       "[48000, 12000]"
      ]
     },
     "execution_count": 8,
     "metadata": {},
     "output_type": "execute_result"
    }
   ],
   "source": [
    "ratios = [0.8, 0.2]\n",
    "train_cnt = int(X.shape[0] * ratios[0])\n",
    "valid_cnt = X.shape[0] - train_cnt\n",
    "test_cnt = len(test.data)\n",
    "cnts = [train_cnt, valid_cnt]\n",
    "cnts"
   ]
  },
  {
   "cell_type": "code",
   "execution_count": 9,
   "metadata": {},
   "outputs": [
    {
     "name": "stdout",
     "output_type": "stream",
     "text": [
      "torch.Size([48000, 784]) torch.Size([48000])\n",
      "torch.Size([12000, 784]) torch.Size([12000])\n",
      "torch.Size([10000, 784]) torch.Size([10000])\n"
     ]
    }
   ],
   "source": [
    "indices = torch.randperm(X.shape[0])\n",
    "X = torch.index_select(X, dim=0, index=indices)\n",
    "y = torch.index_select(y, dim=0, index=indices)\n",
    "X = list(X.split(cnts, dim=0))\n",
    "y = list(y.split(cnts, dim=0))\n",
    "\n",
    "X += [(test.data.float() / 255).reshape(test_cnt, -1)]\n",
    "y += [test.targets]\n",
    "\n",
    "for X_i, y_i in zip(X, y):\n",
    "    print(X_i.shape, y_i.shape)"
   ]
  },
  {
   "cell_type": "code",
   "execution_count": 10,
   "metadata": {},
   "outputs": [],
   "source": [
    "model = nn.Sequential(\n",
    "    nn.Linear(input_size, 500),\n",
    "    nn.LeakyReLU(),\n",
    "    nn.Linear(500, 400),\n",
    "    nn.LeakyReLU(),\n",
    "    nn.Linear(400, 300),\n",
    "    nn.LeakyReLU(),\n",
    "    nn.Linear(300, 200),\n",
    "    nn.LeakyReLU(),\n",
    "    nn.Linear(200, 100),\n",
    "    nn.LeakyReLU(),\n",
    "    nn.Linear(100, output_size),\n",
    "    nn.LogSoftmax(dim=-1)\n",
    ")\n",
    "optimizer = optim.Adam(model.parameters())\n",
    "crit = nn.NLLLoss()"
   ]
  },
  {
   "cell_type": "code",
   "execution_count": 11,
   "metadata": {},
   "outputs": [],
   "source": [
    "device = torch.device('cpu')\n",
    "if torch.cuda.is_available():\n",
    "    device = torch.device('cuda')"
   ]
  },
  {
   "cell_type": "code",
   "execution_count": 12,
   "metadata": {},
   "outputs": [
    {
     "name": "stdout",
     "output_type": "stream",
     "text": [
      "torch.Size([48000, 784]) torch.Size([48000])\n",
      "torch.Size([12000, 784]) torch.Size([12000])\n",
      "torch.Size([10000, 784]) torch.Size([10000])\n"
     ]
    }
   ],
   "source": [
    "model = model.to(device)\n",
    "X = [X_i.to(device) for X_i in X]\n",
    "y = [y_i.to(device) for y_i in y]\n",
    "for X_i, y_i in zip(X, y):\n",
    "    print(X_i.shape, y_i.shape)"
   ]
  },
  {
   "cell_type": "code",
   "execution_count": 14,
   "metadata": {},
   "outputs": [],
   "source": [
    "n_epochs = 1000\n",
    "batch_size = 256\n",
    "print_interval = 10"
   ]
  },
  {
   "cell_type": "code",
   "execution_count": 15,
   "metadata": {},
   "outputs": [],
   "source": [
    "lowest_loss = np.inf\n",
    "best_model = None\n",
    "lowest_epoch = np.inf\n",
    "early_stop = 50"
   ]
  },
  {
   "cell_type": "code",
   "execution_count": 22,
   "metadata": {},
   "outputs": [
    {
     "name": "stdout",
     "output_type": "stream",
     "text": [
      "Epoch 10: train loss=0.022295, valid loss=0.097176, lowest loss=0.088196\n",
      "Epoch 20: train loss=0.009425, valid loss=0.120652, lowest loss=0.088196\n",
      "Epoch 30: train loss=0.009996, valid loss=0.103849, lowest loss=0.088196\n",
      "Epoch 40: train loss=0.003606, valid loss=0.113818, lowest loss=0.088196\n",
      "Epoch 50: train loss=0.002028, valid loss=0.111721, lowest loss=0.088196\n",
      "There is no improvement during last 50 epochs.\n",
      "The best validation loss from epoch 9: 0.088196\n"
     ]
    },
    {
     "data": {
      "text/plain": [
       "<All keys matched successfully>"
      ]
     },
     "execution_count": 22,
     "metadata": {},
     "output_type": "execute_result"
    }
   ],
   "source": [
    "train_history, valid_history = [], []\n",
    "\n",
    "for i in range(n_epochs):\n",
    "    indices = torch.randperm(X[0].shape[0]).to(device)\n",
    "    X_ = torch.index_select(X[0], dim=0, index=indices)\n",
    "    y_ = torch.index_select(y[0], dim=0, index=indices)\n",
    "    X_ = X_.split(batch_size, dim=0)\n",
    "    y_ = y_.split(batch_size, dim=0)\n",
    "\n",
    "    train_loss, valid_loss = 0, 0\n",
    "    y_hat = []\n",
    "\n",
    "    for X_i, y_i in zip(X_, y_):\n",
    "        y_hat_i = model(X_i)\n",
    "        loss = crit(y_hat_i, y_i.squeeze())\n",
    "\n",
    "        optimizer.zero_grad()\n",
    "        loss.backward()\n",
    "        optimizer.step()\n",
    "\n",
    "        train_loss += float(loss)\n",
    "    \n",
    "    train_loss = train_loss / len(X_)\n",
    "\n",
    "    with torch.no_grad():\n",
    "        X_ = X[1].split(batch_size, dim=0)\n",
    "        y_ = y[1].split(batch_size, dim=0)\n",
    "\n",
    "        valid_loss = 0\n",
    "\n",
    "        for X_i, y_i in zip(X_, y_):\n",
    "            y_hat_i = model(X_i)\n",
    "            loss = crit(y_hat_i, y_i.squeeze())\n",
    "\n",
    "            valid_loss += float(loss)\n",
    "\n",
    "            y_hat += [y_hat_i]\n",
    "\n",
    "    valid_loss = valid_loss / len(X_)\n",
    "\n",
    "    train_history += [train_loss]\n",
    "    valid_history += [valid_loss]\n",
    "\n",
    "    if valid_loss < lowest_loss:\n",
    "        lowest_loss = valid_loss\n",
    "        lowest_epoch = i\n",
    "        best_model = deepcopy(model.state_dict())\n",
    "    else:\n",
    "        if early_stop > 0 and early_stop + lowest_epoch < i + 1:\n",
    "            print(f'There is no improvement during last {early_stop} epochs.')\n",
    "            break\n",
    "\n",
    "    if (i + 1) % print_interval == 0:\n",
    "        print(f'Epoch {i + 1}: train loss={train_loss:.6f}, valid loss={valid_loss:.6f}, lowest loss={lowest_loss:.6f}')\n",
    "\n",
    "print(f'The best validation loss from epoch {lowest_epoch + 1}: {lowest_loss:.6f}')\n",
    "\n",
    "model.load_state_dict(best_model)"
   ]
  },
  {
   "cell_type": "code",
   "execution_count": 23,
   "metadata": {},
   "outputs": [
    {
     "data": {
      "image/png": "[encoded data removed]",
      "text/plain": [
       "<Figure size 1296x288 with 1 Axes>"
      ]
     },
     "metadata": {
      "needs_background": "light"
     },
     "output_type": "display_data"
    }
   ],
   "source": [
    "plot_from = 0\n",
    "\n",
    "fig, ax = plt.subplots(1, 1, figsize=(18, 4))\n",
    "plt.title('Train / Valid Loss History')\n",
    "ax.plot(range(plot_from, len(train_history)), train_history[plot_from:],\n",
    "         range(plot_from, len(valid_history)), valid_history[plot_from:])\n",
    "plt.grid(True)\n",
    "plt.yscale('log')\n",
    "plt.legend(['Train', 'Valid'])\n",
    "plt.show()"
   ]
  },
  {
   "cell_type": "code",
   "execution_count": 24,
   "metadata": {},
   "outputs": [
    {
     "name": "stdout",
     "output_type": "stream",
     "text": [
      "Train loss: 0.0265\n",
      "Valid loss: 0.0882\n",
      "Test loss: 0.0901\n"
     ]
    }
   ],
   "source": [
    "with torch.no_grad():\n",
    "    X_ = X[2].split(batch_size, dim=0)\n",
    "    y_ = y[2].split(batch_size, dim=0)\n",
    "\n",
    "    test_loss = 0\n",
    "    y_hat = []\n",
    "    \n",
    "    for X_i, y_i in zip(X_, y_):\n",
    "        y_hat_i = model(X_i)\n",
    "        loss = crit(y_hat_i, y_i.squeeze())\n",
    "\n",
    "        test_loss += float(loss)\n",
    "        y_hat += [y_hat_i]\n",
    "\n",
    "test_loss = test_loss / len(X_)\n",
    "y_hat = torch.concat(y_hat, dim=0)\n",
    "\n",
    "sorted_history = sorted(zip(train_history, valid_history), key=lambda x: x[1])\n",
    "\n",
    "print(f'Train loss: {sorted_history[0][0]:.4f}')\n",
    "print(f'Valid loss: {sorted_history[0][1]:.4f}')\n",
    "print(f'Test loss: {test_loss:.4f}')"
   ]
  },
  {
   "cell_type": "code",
   "execution_count": 25,
   "metadata": {},
   "outputs": [
    {
     "name": "stdout",
     "output_type": "stream",
     "text": [
      "Test Accuracy: 97.49%\n"
     ]
    }
   ],
   "source": [
    "correct_cnt = (y[-1].squeeze() == torch.argmax(y_hat, dim=-1)).sum()\n",
    "total_cnt = y[-1].shape[0]\n",
    "print(f'Test Accuracy: {correct_cnt / total_cnt:.2%}')"
   ]
  },
  {
   "cell_type": "code",
   "execution_count": 29,
   "metadata": {},
   "outputs": [
    {
     "data": {
      "text/plain": [
       "<sklearn.metrics._plot.confusion_matrix.ConfusionMatrixDisplay at 0x2e21a7dc7f0>"
      ]
     },
     "execution_count": 29,
     "metadata": {},
     "output_type": "execute_result"
    },
    {
     "data": {
      "image/png": "[encoded data removed]",
      "text/plain": [
       "<Figure size 432x288 with 2 Axes>"
      ]
     },
     "metadata": {
      "needs_background": "light"
     },
     "output_type": "display_data"
    }
   ],
   "source": [
    "ConfusionMatrixDisplay.from_predictions(y[-1].squeeze(), torch.argmax(y_hat, dim=-1))"
   ]
  },
  {
   "cell_type": "code",
   "execution_count": null,
   "metadata": {},
   "outputs": [],
   "source": []
  }
 ],
 "metadata": {
  "kernelspec": {
   "display_name": "base",
   "language": "python",
   "name": "python3"
  },
  "language_info": {
   "codemirror_mode": {
    "name": "ipython",
    "version": 3
   },
   "file_extension": ".py",
   "mimetype": "text/x-python",
   "name": "python",
   "nbconvert_exporter": "python",
   "pygments_lexer": "ipython3",
   "version": "3.10.9"
  },
  "orig_nbformat": 4
 },
 "nbformat": 4,
 "nbformat_minor": 2
}
