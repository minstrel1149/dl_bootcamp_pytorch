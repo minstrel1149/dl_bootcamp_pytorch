{
 "cells": [
  {
   "cell_type": "code",
   "execution_count": 5,
   "id": "203d98fd",
   "metadata": {},
   "outputs": [],
   "source": [
    "import numpy as np\n",
    "\n",
    "import torch"
   ]
  },
  {
   "cell_type": "code",
   "execution_count": 7,
   "id": "9ef774ac",
   "metadata": {},
   "outputs": [
    {
     "name": "stdout",
     "output_type": "stream",
     "text": [
      "tensor([[1., 2.],\n",
      "        [3., 4.]])\n",
      "tensor([[1, 2],\n",
      "        [3, 4]])\n",
      "tensor([[1, 2],\n",
      "        [3, 4]], dtype=torch.uint8)\n",
      "torch.float32 torch.int64 torch.uint8\n"
     ]
    }
   ],
   "source": [
    "ft = torch.FloatTensor([[1, 2],\n",
    "                        [3, 4]])\n",
    "print(ft)\n",
    "lt = torch.LongTensor([[1, 2],\n",
    "                       [3, 4]])\n",
    "print(lt)\n",
    "bt = torch.ByteTensor([[1, 2],\n",
    "                       [3, 4]])\n",
    "print(bt)\n",
    "print(ft.dtype, lt.dtype, bt.dtype)"
   ]
  },
  {
   "cell_type": "code",
   "execution_count": 4,
   "id": "fa9592f0",
   "metadata": {},
   "outputs": [
    {
     "name": "stdout",
     "output_type": "stream",
     "text": [
      "tensor([[-9.5931e+21,  1.5400e-42],\n",
      "        [ 0.0000e+00,  0.0000e+00],\n",
      "        [ 0.0000e+00,  0.0000e+00]])\n",
      "torch.float32\n"
     ]
    }
   ],
   "source": [
    "x = torch.FloatTensor(3, 2)\n",
    "print(x)\n",
    "print(x.dtype)"
   ]
  },
  {
   "cell_type": "code",
   "execution_count": 9,
   "id": "2f173ae1",
   "metadata": {},
   "outputs": [
    {
     "name": "stdout",
     "output_type": "stream",
     "text": [
      "[[1 2]\n",
      " [3 4]] <class 'numpy.ndarray'> int64\n",
      "tensor([[1, 2],\n",
      "        [3, 4]]) <class 'torch.Tensor'> torch.int64\n",
      "[[1 2]\n",
      " [3 4]] <class 'numpy.ndarray'> int64\n"
     ]
    }
   ],
   "source": [
    "x = np.array([[1, 2],\n",
    "              [3, 4]])\n",
    "print(x, type(x), x.dtype)\n",
    "x = torch.from_numpy(x)\n",
    "print(x, type(x), x.dtype)\n",
    "x = x.numpy()\n",
    "print(x, type(x), x.dtype)"
   ]
  },
  {
   "cell_type": "code",
   "execution_count": 10,
   "id": "b688da08",
   "metadata": {},
   "outputs": [
    {
     "name": "stdout",
     "output_type": "stream",
     "text": [
      "tensor([[1, 2],\n",
      "        [3, 4]]) torch.int64\n",
      "tensor([[1., 2.],\n",
      "        [3., 4.]]) torch.float32\n"
     ]
    }
   ],
   "source": [
    "print(ft.long(), ft.long().dtype)\n",
    "print(lt.float(), lt.float().dtype)"
   ]
  },
  {
   "cell_type": "code",
   "execution_count": 13,
   "id": "f88552fb",
   "metadata": {},
   "outputs": [
    {
     "name": "stdout",
     "output_type": "stream",
     "text": [
      "torch.float32 torch.Size([3, 2, 2]) 3\n"
     ]
    }
   ],
   "source": [
    "x = torch.FloatTensor([[[1, 2],\n",
    "                        [3, 4]],\n",
    "                       [[5, 6],\n",
    "                        [7, 8]],\n",
    "                       [[9, 10],\n",
    "                        [11, 12]]])\n",
    "print(x.dtype, x.shape, x.dim())"
   ]
  },
  {
   "cell_type": "code",
   "execution_count": 17,
   "id": "595bb185",
   "metadata": {},
   "outputs": [
    {
     "name": "stdout",
     "output_type": "stream",
     "text": [
      "tensor([[3., 4.],\n",
      "        [6., 7.]])\n",
      "tensor([[False,  True],\n",
      "        [ True, False]])\n",
      "tensor([[ 2.,  4.],\n",
      "        [ 9., 12.]])\n",
      "tensor(10.) tensor(2.5000)\n",
      "tensor([4., 6.]) tensor([3., 7.])\n"
     ]
    }
   ],
   "source": [
    "# Why np array? There is no needs to do that.\n",
    "a = torch.FloatTensor(np.array([[1, 2],\n",
    "                                [3, 4]]))\n",
    "b = torch.FloatTensor(np.array([[2, 2],\n",
    "                                [3, 3]]))\n",
    "print(a + b)\n",
    "print(a == b)\n",
    "print(a.mul(b))\n",
    "print(a.sum(), a.mean())\n",
    "print(a.sum(dim=0), a.sum(dim=-1))"
   ]
  },
  {
   "cell_type": "code",
   "execution_count": 20,
   "id": "c7a56f4f",
   "metadata": {},
   "outputs": [
    {
     "name": "stdout",
     "output_type": "stream",
     "text": [
      "tensor([[2., 3.],\n",
      "        [4., 5.]]) torch.float32\n"
     ]
    }
   ],
   "source": [
    "x = torch.FloatTensor(np.array([[1, 2],\n",
    "                                [3, 4]]))\n",
    "y = 1\n",
    "print(x + y, (x + y).dtype)"
   ]
  },
  {
   "cell_type": "code",
   "execution_count": 24,
   "id": "c55de5b2",
   "metadata": {},
   "outputs": [
    {
     "name": "stdout",
     "output_type": "stream",
     "text": [
      "torch.Size([2, 2]) torch.Size([2]) torch.Size([2, 1])\n",
      "tensor([[ 4.,  7.],\n",
      "        [ 7., 13.]]) torch.float32\n",
      "tensor([[ 4.,  5.],\n",
      "        [ 9., 13.]]) torch.float32\n"
     ]
    }
   ],
   "source": [
    "x = torch.FloatTensor(np.array([[1, 2],\n",
    "                                [4, 8]]))\n",
    "y = torch.FloatTensor([3, 5])\n",
    "z = torch.FloatTensor([3, 5]).reshape(-1, 1)\n",
    "print(x.shape, y.shape, z.shape)\n",
    "print(x + y, (x+y).dtype)\n",
    "print(x + z, (x+z).dtype)"
   ]
  },
  {
   "cell_type": "code",
   "execution_count": 27,
   "id": "850b43b6",
   "metadata": {},
   "outputs": [
    {
     "name": "stdout",
     "output_type": "stream",
     "text": [
      "torch.Size([3, 2, 2])\n",
      "tensor([[ 1.,  2.,  3.,  4.],\n",
      "        [ 5.,  6.,  7.,  8.],\n",
      "        [ 9., 10., 11., 12.]])\n",
      "tensor([[[ 1.,  2.,  3.],\n",
      "         [ 4.,  5.,  6.]],\n",
      "\n",
      "        [[ 7.,  8.,  9.],\n",
      "         [10., 11., 12.]]])\n"
     ]
    }
   ],
   "source": [
    "x = torch.FloatTensor([[[1, 2], \n",
    "                        [3, 4]], \n",
    "                       [[5, 6], \n",
    "                        [7, 8]], \n",
    "                       [[9, 10], \n",
    "                        [11, 12]]])\n",
    "print(x.shape)\n",
    "print(x.reshape(3, 4))\n",
    "print(x.reshape(2, -1, 3))"
   ]
  },
  {
   "cell_type": "code",
   "execution_count": 31,
   "id": "d3a704dd",
   "metadata": {},
   "outputs": [
    {
     "name": "stdout",
     "output_type": "stream",
     "text": [
      "tensor([[[ 1.],\n",
      "         [ 2.],\n",
      "         [ 3.],\n",
      "         [ 4.]],\n",
      "\n",
      "        [[ 5.],\n",
      "         [ 6.],\n",
      "         [ 7.],\n",
      "         [ 8.]],\n",
      "\n",
      "        [[ 9.],\n",
      "         [10.],\n",
      "         [11.],\n",
      "         [12.]]]) torch.Size([3, 4, 1])\n",
      "tensor([[ 1.,  2.,  3.,  4.],\n",
      "        [ 5.,  6.,  7.,  8.],\n",
      "        [ 9., 10., 11., 12.]]) torch.Size([3, 4])\n",
      "tensor([[[ 1.,  2.,  3.,  4.]],\n",
      "\n",
      "        [[ 5.,  6.,  7.,  8.]],\n",
      "\n",
      "        [[ 9., 10., 11., 12.]]]) torch.Size([3, 1, 4])\n"
     ]
    }
   ],
   "source": [
    "x = x.reshape(3, 4, 1)\n",
    "print(x, x.shape)\n",
    "x = x.squeeze()\n",
    "print(x, x.shape)\n",
    "x = x.unsqueeze(1)\n",
    "print(x, x.shape)"
   ]
  },
  {
   "cell_type": "code",
   "execution_count": null,
   "id": "00a6871b",
   "metadata": {},
   "outputs": [],
   "source": []
  }
 ],
 "metadata": {
  "kernelspec": {
   "display_name": ".venv (3.13.7)",
   "language": "python",
   "name": "python3"
  },
  "language_info": {
   "codemirror_mode": {
    "name": "ipython",
    "version": 3
   },
   "file_extension": ".py",
   "mimetype": "text/x-python",
   "name": "python",
   "nbconvert_exporter": "python",
   "pygments_lexer": "ipython3",
   "version": "3.13.7"
  }
 },
 "nbformat": 4,
 "nbformat_minor": 5
}
