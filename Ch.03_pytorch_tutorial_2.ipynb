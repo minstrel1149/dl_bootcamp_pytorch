{
 "cells": [
  {
   "cell_type": "code",
   "execution_count": 1,
   "id": "203d98fd",
   "metadata": {},
   "outputs": [],
   "source": [
    "import numpy as np\n",
    "\n",
    "import torch"
   ]
  },
  {
   "cell_type": "code",
   "execution_count": 2,
   "id": "9ef774ac",
   "metadata": {},
   "outputs": [
    {
     "name": "stdout",
     "output_type": "stream",
     "text": [
      "tensor([[1., 2.],\n",
      "        [3., 4.]])\n",
      "tensor([[1, 2],\n",
      "        [3, 4]])\n",
      "tensor([[1, 2],\n",
      "        [3, 4]], dtype=torch.uint8)\n",
      "torch.float32 torch.int64 torch.uint8\n"
     ]
    }
   ],
   "source": [
    "ft = torch.FloatTensor([[1, 2],\n",
    "                        [3, 4]])\n",
    "print(ft)\n",
    "lt = torch.LongTensor([[1, 2],\n",
    "                       [3, 4]])\n",
    "print(lt)\n",
    "bt = torch.ByteTensor([[1, 2],\n",
    "                       [3, 4]])\n",
    "print(bt)\n",
    "print(ft.dtype, lt.dtype, bt.dtype)"
   ]
  },
  {
   "cell_type": "code",
   "execution_count": 3,
   "id": "fa9592f0",
   "metadata": {},
   "outputs": [
    {
     "name": "stdout",
     "output_type": "stream",
     "text": [
      "tensor([[0., 0.],\n",
      "        [0., 0.],\n",
      "        [0., 0.]])\n",
      "torch.float32\n"
     ]
    }
   ],
   "source": [
    "x = torch.FloatTensor(3, 2)\n",
    "print(x)\n",
    "print(x.dtype)"
   ]
  },
  {
   "cell_type": "code",
   "execution_count": 4,
   "id": "2f173ae1",
   "metadata": {},
   "outputs": [
    {
     "name": "stdout",
     "output_type": "stream",
     "text": [
      "[[1 2]\n",
      " [3 4]] <class 'numpy.ndarray'> int64\n",
      "tensor([[1, 2],\n",
      "        [3, 4]]) <class 'torch.Tensor'> torch.int64\n",
      "[[1 2]\n",
      " [3 4]] <class 'numpy.ndarray'> int64\n"
     ]
    }
   ],
   "source": [
    "x = np.array([[1, 2],\n",
    "              [3, 4]])\n",
    "print(x, type(x), x.dtype)\n",
    "x = torch.from_numpy(x)\n",
    "print(x, type(x), x.dtype)\n",
    "x = x.numpy()\n",
    "print(x, type(x), x.dtype)"
   ]
  },
  {
   "cell_type": "code",
   "execution_count": 5,
   "id": "b688da08",
   "metadata": {},
   "outputs": [
    {
     "name": "stdout",
     "output_type": "stream",
     "text": [
      "tensor([[1, 2],\n",
      "        [3, 4]]) torch.int64\n",
      "tensor([[1., 2.],\n",
      "        [3., 4.]]) torch.float32\n"
     ]
    }
   ],
   "source": [
    "print(ft.long(), ft.long().dtype)\n",
    "print(lt.float(), lt.float().dtype)"
   ]
  },
  {
   "cell_type": "code",
   "execution_count": 6,
   "id": "f88552fb",
   "metadata": {},
   "outputs": [
    {
     "name": "stdout",
     "output_type": "stream",
     "text": [
      "torch.float32 torch.Size([3, 2, 2]) 3\n"
     ]
    }
   ],
   "source": [
    "x = torch.FloatTensor([[[1, 2],\n",
    "                        [3, 4]],\n",
    "                       [[5, 6],\n",
    "                        [7, 8]],\n",
    "                       [[9, 10],\n",
    "                        [11, 12]]])\n",
    "print(x.dtype, x.shape, x.dim())"
   ]
  },
  {
   "cell_type": "code",
   "execution_count": 7,
   "id": "595bb185",
   "metadata": {},
   "outputs": [
    {
     "name": "stdout",
     "output_type": "stream",
     "text": [
      "tensor([[3., 4.],\n",
      "        [6., 7.]])\n",
      "tensor([[False,  True],\n",
      "        [ True, False]])\n",
      "tensor([[ 2.,  4.],\n",
      "        [ 9., 12.]])\n",
      "tensor(10.) tensor(2.5000)\n",
      "tensor([4., 6.]) tensor([3., 7.])\n"
     ]
    }
   ],
   "source": [
    "# Why np array? There is no needs to do that.\n",
    "a = torch.FloatTensor(np.array([[1, 2],\n",
    "                                [3, 4]]))\n",
    "b = torch.FloatTensor(np.array([[2, 2],\n",
    "                                [3, 3]]))\n",
    "print(a + b)\n",
    "print(a == b)\n",
    "print(a.mul(b))\n",
    "print(a.sum(), a.mean())\n",
    "print(a.sum(dim=0), a.sum(dim=-1))"
   ]
  },
  {
   "cell_type": "code",
   "execution_count": 8,
   "id": "c7a56f4f",
   "metadata": {},
   "outputs": [
    {
     "name": "stdout",
     "output_type": "stream",
     "text": [
      "tensor([[2., 3.],\n",
      "        [4., 5.]]) torch.float32\n"
     ]
    }
   ],
   "source": [
    "x = torch.FloatTensor(np.array([[1, 2],\n",
    "                                [3, 4]]))\n",
    "y = 1\n",
    "print(x + y, (x + y).dtype)"
   ]
  },
  {
   "cell_type": "code",
   "execution_count": 9,
   "id": "c55de5b2",
   "metadata": {},
   "outputs": [
    {
     "name": "stdout",
     "output_type": "stream",
     "text": [
      "torch.Size([2, 2]) torch.Size([2]) torch.Size([2, 1])\n",
      "tensor([[ 4.,  7.],\n",
      "        [ 7., 13.]]) torch.float32\n",
      "tensor([[ 4.,  5.],\n",
      "        [ 9., 13.]]) torch.float32\n"
     ]
    }
   ],
   "source": [
    "x = torch.FloatTensor(np.array([[1, 2],\n",
    "                                [4, 8]]))\n",
    "y = torch.FloatTensor([3, 5])\n",
    "z = torch.FloatTensor([3, 5]).reshape(-1, 1)\n",
    "print(x.shape, y.shape, z.shape)\n",
    "print(x + y, (x+y).dtype)\n",
    "print(x + z, (x+z).dtype)"
   ]
  },
  {
   "cell_type": "code",
   "execution_count": 10,
   "id": "850b43b6",
   "metadata": {},
   "outputs": [
    {
     "name": "stdout",
     "output_type": "stream",
     "text": [
      "torch.Size([3, 2, 2])\n",
      "tensor([[ 1.,  2.,  3.,  4.],\n",
      "        [ 5.,  6.,  7.,  8.],\n",
      "        [ 9., 10., 11., 12.]])\n",
      "tensor([[[ 1.,  2.,  3.],\n",
      "         [ 4.,  5.,  6.]],\n",
      "\n",
      "        [[ 7.,  8.,  9.],\n",
      "         [10., 11., 12.]]])\n"
     ]
    }
   ],
   "source": [
    "x = torch.FloatTensor([[[1, 2], \n",
    "                        [3, 4]], \n",
    "                       [[5, 6], \n",
    "                        [7, 8]], \n",
    "                       [[9, 10], \n",
    "                        [11, 12]]])\n",
    "print(x.shape)\n",
    "print(x.reshape(3, 4))\n",
    "print(x.reshape(2, -1, 3))"
   ]
  },
  {
   "cell_type": "code",
   "execution_count": 11,
   "id": "d3a704dd",
   "metadata": {},
   "outputs": [
    {
     "name": "stdout",
     "output_type": "stream",
     "text": [
      "tensor([[[ 1.],\n",
      "         [ 2.],\n",
      "         [ 3.],\n",
      "         [ 4.]],\n",
      "\n",
      "        [[ 5.],\n",
      "         [ 6.],\n",
      "         [ 7.],\n",
      "         [ 8.]],\n",
      "\n",
      "        [[ 9.],\n",
      "         [10.],\n",
      "         [11.],\n",
      "         [12.]]]) torch.Size([3, 4, 1])\n",
      "tensor([[ 1.,  2.,  3.,  4.],\n",
      "        [ 5.,  6.,  7.,  8.],\n",
      "        [ 9., 10., 11., 12.]]) torch.Size([3, 4])\n",
      "tensor([[[ 1.,  2.,  3.,  4.]],\n",
      "\n",
      "        [[ 5.,  6.,  7.,  8.]],\n",
      "\n",
      "        [[ 9., 10., 11., 12.]]]) torch.Size([3, 1, 4])\n"
     ]
    }
   ],
   "source": [
    "x = x.reshape(3, 4, 1)\n",
    "print(x, x.shape)\n",
    "x = x.squeeze()\n",
    "print(x, x.shape)\n",
    "x = x.unsqueeze(1)\n",
    "print(x, x.shape)"
   ]
  },
  {
   "cell_type": "code",
   "execution_count": 19,
   "id": "00a6871b",
   "metadata": {},
   "outputs": [
    {
     "name": "stdout",
     "output_type": "stream",
     "text": [
      "torch.Size([3, 2, 2])\n",
      "tensor([[1., 2.],\n",
      "        [3., 4.]])\n",
      "tensor([[ 9., 10.],\n",
      "        [11., 12.]])\n",
      "tensor([[ 1.,  2.],\n",
      "        [ 5.,  6.],\n",
      "        [ 9., 10.]])\n",
      "tensor([[ 1.,  3.],\n",
      "        [ 5.,  7.],\n",
      "        [ 9., 11.]])\n",
      "tensor([[[7., 8.]]])\n"
     ]
    }
   ],
   "source": [
    "x = torch.FloatTensor([[[1, 2], \n",
    "                        [3, 4]], \n",
    "                        [[5, 6], \n",
    "                         [7, 8]], \n",
    "                         [[9, 10], \n",
    "                          [11, 12]]])\n",
    "print(x.shape)\n",
    "print(x[0])\n",
    "print(x[-1])\n",
    "print(x[:, 0, :])\n",
    "print(x[:, :, 0])\n",
    "print(x[1:2, 1:, :])"
   ]
  },
  {
   "cell_type": "code",
   "execution_count": 22,
   "id": "5dc50a5f",
   "metadata": {},
   "outputs": [
    {
     "name": "stdout",
     "output_type": "stream",
     "text": [
      "torch.Size([4, 4])\n",
      "torch.Size([4, 4])\n",
      "torch.Size([2, 4])\n",
      "----------------------\n",
      "torch.Size([3, 4])\n",
      "torch.Size([3, 4])\n",
      "torch.Size([3, 4])\n",
      "torch.Size([1, 4])\n"
     ]
    }
   ],
   "source": [
    "x = torch.FloatTensor(10, 4)\n",
    "splits = x.split(4, dim=0)\n",
    "for s in splits:\n",
    "    print(s.shape)\n",
    "print('----------------------')\n",
    "chunks = x.chunk(4, dim=0)\n",
    "for c in chunks:\n",
    "    print(c.shape)"
   ]
  },
  {
   "cell_type": "code",
   "execution_count": 27,
   "id": "2c390e17",
   "metadata": {},
   "outputs": [
    {
     "name": "stdout",
     "output_type": "stream",
     "text": [
      "torch.Size([3, 2, 2])\n",
      "tensor([[[ 9., 10.],\n",
      "         [11., 12.]],\n",
      "\n",
      "        [[ 5.,  6.],\n",
      "         [ 7.,  8.]]])\n",
      "---------------\n",
      "tensor([[[5., 6.],\n",
      "         [7., 8.]]])\n"
     ]
    }
   ],
   "source": [
    "x = torch.FloatTensor([[[1, 2], \n",
    "                        [3, 4]], \n",
    "                        [[5, 6], \n",
    "                         [7, 8]], \n",
    "                         [[9, 10], \n",
    "                          [11, 12]]])\n",
    "indice = torch.LongTensor([2, 1])\n",
    "print(x.shape)\n",
    "print(x.index_select(dim=0, index=indice))\n",
    "print('---------------')\n",
    "indice = torch.LongTensor([1])\n",
    "print(x.index_select(dim=0, index=indice))"
   ]
  },
  {
   "cell_type": "code",
   "execution_count": 36,
   "id": "c51551e9",
   "metadata": {},
   "outputs": [
    {
     "name": "stdout",
     "output_type": "stream",
     "text": [
      "torch.Size([3, 3]) torch.Size([3, 3])\n",
      "tensor([[ 1.,  2.,  3.],\n",
      "        [ 4.,  5.,  6.],\n",
      "        [ 7.,  8.,  9.],\n",
      "        [10., 11., 12.],\n",
      "        [13., 14., 15.],\n",
      "        [16., 17., 18.]])\n",
      "torch.Size([6, 3])\n",
      "---------------------\n",
      "tensor([[ 1.,  2.,  3., 10., 11., 12.],\n",
      "        [ 4.,  5.,  6., 13., 14., 15.],\n",
      "        [ 7.,  8.,  9., 16., 17., 18.]])\n",
      "torch.Size([3, 6])\n",
      "---------------------\n",
      "tensor([[[ 1.,  2.,  3.],\n",
      "         [ 4.,  5.,  6.],\n",
      "         [ 7.,  8.,  9.]],\n",
      "\n",
      "        [[10., 11., 12.],\n",
      "         [13., 14., 15.],\n",
      "         [16., 17., 18.]]])\n",
      "torch.Size([2, 3, 3])\n",
      "---------------------\n",
      "tensor([[[ 1.,  2.,  3.],\n",
      "         [10., 11., 12.]],\n",
      "\n",
      "        [[ 4.,  5.,  6.],\n",
      "         [13., 14., 15.]],\n",
      "\n",
      "        [[ 7.,  8.,  9.],\n",
      "         [16., 17., 18.]]])\n",
      "torch.Size([3, 2, 3])\n",
      "---------------------\n",
      "tensor([[[ 1., 10.],\n",
      "         [ 2., 11.],\n",
      "         [ 3., 12.]],\n",
      "\n",
      "        [[ 4., 13.],\n",
      "         [ 5., 14.],\n",
      "         [ 6., 15.]],\n",
      "\n",
      "        [[ 7., 16.],\n",
      "         [ 8., 17.],\n",
      "         [ 9., 18.]]])\n",
      "torch.Size([3, 3, 2])\n",
      "---------------------\n",
      "tensor([[[ 1.,  2.,  3.],\n",
      "         [ 4.,  5.,  6.],\n",
      "         [ 7.,  8.,  9.]],\n",
      "\n",
      "        [[10., 11., 12.],\n",
      "         [13., 14., 15.],\n",
      "         [16., 17., 18.]]])\n",
      "torch.Size([2, 3, 3])\n",
      "---------------------\n"
     ]
    }
   ],
   "source": [
    "x = torch.FloatTensor([[1, 2, 3], [4, 5, 6], [7, 8, 9]])\n",
    "y = torch.FloatTensor([[10, 11, 12], [13, 14, 15], [16, 17, 18]])\n",
    "print(x.shape, y.shape)\n",
    "z = torch.concat([x, y], dim=0)\n",
    "print(z)\n",
    "print(z.shape)\n",
    "print('---------------------')\n",
    "z = torch.concat([x, y], dim=-1)\n",
    "print(z)\n",
    "print(z.shape)\n",
    "print('---------------------')\n",
    "z = torch.stack([x, y], dim=0)\n",
    "print(z)\n",
    "print(z.shape)\n",
    "print('---------------------')\n",
    "z = torch.stack([x, y], dim=1)\n",
    "print(z)\n",
    "print(z.shape)\n",
    "print('---------------------')\n",
    "z = torch.stack([x, y], dim=-1)\n",
    "print(z)\n",
    "print(z.shape)\n",
    "print('---------------------')\n",
    "d = 0\n",
    "z = torch.concat([x.unsqueeze(d), y.unsqueeze(d)], dim=d)\n",
    "print(z)\n",
    "print(z.shape)\n",
    "print('---------------------')"
   ]
  },
  {
   "cell_type": "code",
   "execution_count": 39,
   "id": "4f493633",
   "metadata": {},
   "outputs": [
    {
     "name": "stdout",
     "output_type": "stream",
     "text": [
      "torch.Size([2, 1, 2])\n",
      "-----------------\n",
      "tensor([[[1., 2.],\n",
      "         [1., 2.],\n",
      "         [1., 2.]],\n",
      "\n",
      "        [[3., 4.],\n",
      "         [3., 4.],\n",
      "         [3., 4.]]])\n",
      "torch.Size([2, 3, 2])\n"
     ]
    }
   ],
   "source": [
    "x = torch.FloatTensor(np.array([[1, 2],\n",
    "                                [3, 4]]))\n",
    "x = x.unsqueeze(1)\n",
    "print(x.shape)\n",
    "print('-----------------')\n",
    "y = x.expand(2, 3, 2)\n",
    "print(y)\n",
    "print(y.shape)"
   ]
  },
  {
   "cell_type": "code",
   "execution_count": 40,
   "id": "ed2f0617",
   "metadata": {},
   "outputs": [
    {
     "name": "stdout",
     "output_type": "stream",
     "text": [
      "tensor([1, 4, 5, 8, 3, 9, 2, 0, 6, 7])\n"
     ]
    }
   ],
   "source": [
    "x = torch.randperm(10)\n",
    "print(x)"
   ]
  },
  {
   "cell_type": "code",
   "execution_count": 44,
   "id": "b95422e2",
   "metadata": {},
   "outputs": [
    {
     "name": "stdout",
     "output_type": "stream",
     "text": [
      "tensor([[[ 0, 12, 17],\n",
      "         [25,  9,  3],\n",
      "         [ 6, 20, 26]],\n",
      "\n",
      "        [[ 2, 21, 19],\n",
      "         [10,  5, 15],\n",
      "         [ 8, 22,  1]],\n",
      "\n",
      "        [[14, 13, 11],\n",
      "         [16, 24, 23],\n",
      "         [ 4,  7, 18]]])\n",
      "torch.Size([3, 3, 3])\n",
      "-----------------------\n",
      "tensor([[2, 1, 1],\n",
      "        [0, 2, 2],\n",
      "        [1, 1, 0]])\n",
      "torch.Size([3, 3])\n",
      "-----------------------\n",
      "tensor([[1, 2, 2],\n",
      "        [1, 2, 0],\n",
      "        [1, 1, 1]])\n",
      "torch.Size([3, 3])\n",
      "-----------------------\n",
      "tensor([[2, 0, 2],\n",
      "        [1, 2, 1],\n",
      "        [0, 1, 2]])\n",
      "torch.Size([3, 3])\n",
      "-----------------------\n"
     ]
    }
   ],
   "source": [
    "x = torch.randperm(3**3).reshape(3, 3, -1)\n",
    "print(x)\n",
    "print(x.shape)\n",
    "print('-----------------------')\n",
    "y = x.argmax(dim=0)\n",
    "print(y)\n",
    "print(y.shape)\n",
    "print('-----------------------')\n",
    "y = x.argmax(dim=1)\n",
    "print(y)\n",
    "print(y.shape)\n",
    "print('-----------------------')\n",
    "y = x.argmax(dim=-1)\n",
    "print(y)\n",
    "print(y.shape)\n",
    "print('-----------------------')"
   ]
  },
  {
   "cell_type": "code",
   "execution_count": 49,
   "id": "0418d6ec",
   "metadata": {},
   "outputs": [
    {
     "name": "stdout",
     "output_type": "stream",
     "text": [
      "tensor([[[ 6,  5, 26],\n",
      "         [ 0, 22, 20],\n",
      "         [ 8, 18,  4]],\n",
      "\n",
      "        [[13, 14, 21],\n",
      "         [ 9, 25,  3],\n",
      "         [10, 19, 23]],\n",
      "\n",
      "        [[12, 16, 17],\n",
      "         [11, 24, 15],\n",
      "         [ 2,  7,  1]]])\n",
      "torch.Size([3, 3, 3])\n",
      "-----------------------\n",
      "torch.Size([2, 3, 3])\n",
      "torch.Size([2, 3, 3])\n",
      "tensor([[[1, 2, 0],\n",
      "         [2, 1, 0],\n",
      "         [1, 1, 1]],\n",
      "\n",
      "        [[2, 1, 1],\n",
      "         [1, 2, 2],\n",
      "         [0, 0, 0]]])\n",
      "-----------------------\n"
     ]
    }
   ],
   "source": [
    "x = torch.randperm(3**3).reshape(3, 3, -1)\n",
    "print(x)\n",
    "print(x.shape)\n",
    "print('-----------------------')\n",
    "values, indices = torch.topk(x, k=2, dim=0)\n",
    "print(values.shape)\n",
    "print(indices.shape)\n",
    "print(indices)\n",
    "print('-----------------------')"
   ]
  },
  {
   "cell_type": "code",
   "execution_count": 50,
   "id": "323b6271",
   "metadata": {},
   "outputs": [
    {
     "name": "stdout",
     "output_type": "stream",
     "text": [
      "torch.return_types.sort(\n",
      "values=tensor([[[13, 16, 26],\n",
      "         [11, 25, 20],\n",
      "         [10, 19, 23]],\n",
      "\n",
      "        [[12, 14, 21],\n",
      "         [ 9, 24, 15],\n",
      "         [ 8, 18,  4]],\n",
      "\n",
      "        [[ 6,  5, 17],\n",
      "         [ 0, 22,  3],\n",
      "         [ 2,  7,  1]]]),\n",
      "indices=tensor([[[1, 2, 0],\n",
      "         [2, 1, 0],\n",
      "         [1, 1, 1]],\n",
      "\n",
      "        [[2, 1, 1],\n",
      "         [1, 2, 2],\n",
      "         [0, 0, 0]],\n",
      "\n",
      "        [[0, 0, 2],\n",
      "         [0, 0, 1],\n",
      "         [2, 2, 2]]]))\n"
     ]
    }
   ],
   "source": [
    "print(torch.sort(x, dim=0, descending=True))"
   ]
  },
  {
   "cell_type": "code",
   "execution_count": 54,
   "id": "39de0da8",
   "metadata": {},
   "outputs": [
    {
     "name": "stdout",
     "output_type": "stream",
     "text": [
      "tensor([[0., 1., 2.],\n",
      "        [3., 4., 5.],\n",
      "        [6., 7., 8.]])\n",
      "torch.Size([3, 3])\n",
      "-----------------------\n",
      "tensor([[False, False, False],\n",
      "        [False, False,  True],\n",
      "        [ True,  True,  True]])\n",
      "-----------------------\n",
      "tensor([[ 0.,  1.,  2.],\n",
      "        [ 3.,  4., -1.],\n",
      "        [-1., -1., -1.]])\n"
     ]
    }
   ],
   "source": [
    "x = torch.FloatTensor([i for i in range(3**2)]).reshape(3, -1)\n",
    "print(x)\n",
    "print(x.shape)\n",
    "print('-----------------------')\n",
    "mask = x > 4\n",
    "print(mask)\n",
    "print('-----------------------')\n",
    "print(x.masked_fill(mask, value=-1))"
   ]
  },
  {
   "cell_type": "code",
   "execution_count": 57,
   "id": "df0369c2",
   "metadata": {},
   "outputs": [
    {
     "name": "stdout",
     "output_type": "stream",
     "text": [
      "tensor([[1., 1., 1.],\n",
      "        [1., 1., 1.]])\n",
      "tensor([[0., 0., 0.],\n",
      "        [0., 0., 0.]])\n",
      "-----------------------\n",
      "tensor([[[3, 4, 0],\n",
      "         [5, 2, 1]]])\n",
      "tensor([[[1, 1, 1],\n",
      "         [1, 1, 1]]])\n",
      "tensor([[[0, 0, 0],\n",
      "         [0, 0, 0]]])\n"
     ]
    }
   ],
   "source": [
    "print(torch.ones(2, 3))\n",
    "print(torch.zeros(2, 3))\n",
    "print('-----------------------')\n",
    "x = torch.randperm(6).reshape(1, 2, 3)\n",
    "print(x)\n",
    "print(torch.ones_like(x))\n",
    "print(torch.zeros_like(x))"
   ]
  },
  {
   "cell_type": "code",
   "execution_count": null,
   "id": "43e7c272",
   "metadata": {},
   "outputs": [],
   "source": []
  }
 ],
 "metadata": {
  "kernelspec": {
   "display_name": ".venv (3.13.7)",
   "language": "python",
   "name": "python3"
  },
  "language_info": {
   "codemirror_mode": {
    "name": "ipython",
    "version": 3
   },
   "file_extension": ".py",
   "mimetype": "text/x-python",
   "name": "python",
   "nbconvert_exporter": "python",
   "pygments_lexer": "ipython3",
   "version": "3.13.7"
  }
 },
 "nbformat": 4,
 "nbformat_minor": 5
}
